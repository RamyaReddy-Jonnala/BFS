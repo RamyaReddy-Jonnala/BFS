{
 "cells": [
  {
   "cell_type": "code",
   "execution_count": 15,
   "id": "a38acbad-b50a-4148-9a40-d28ce674e4db",
   "metadata": {},
   "outputs": [
    {
     "name": "stdout",
     "output_type": "stream",
     "text": [
      "BFS traversal starting from A: ['A', 'B', 'C', 'D', 'E']\n"
     ]
    }
   ],
   "source": [
    "//Solution for BFS implementation\n",
    "\n",
    "def bfs(graph, start):\n",
    "    visited = set()\n",
    "    queue = deque([start])\n",
    "    visited.add(start)\n",
    "    result = []\n",
    "    \n",
    "    while queue:\n",
    "        node = queue.popleft()\n",
    "        result.append(node)\n",
    "        \n",
    "        for neighbor in graph[node]:\n",
    "            if neighbor not in visited:\n",
    "                visited.add(neighbor)\n",
    "                queue.append(neighbor)\n",
    "    \n",
    "    return result\n",
    "\n",
    "# Example usage:\n",
    "start_node = 'A'\n",
    "bfs_result = bfs(graph, start_node)\n",
    "print(f\"BFS traversal starting from {start_node}: {bfs_result}\")"
   ]
  }
 ],
 "metadata": {
  "kernelspec": {
   "display_name": "Python 3 (ipykernel)",
   "language": "python",
   "name": "python3"
  },
  "language_info": {
   "codemirror_mode": {
    "name": "ipython",
    "version": 3
   },
   "file_extension": ".py",
   "mimetype": "text/x-python",
   "name": "python",
   "nbconvert_exporter": "python",
   "pygments_lexer": "ipython3",
   "version": "3.12.4"
  }
 },
 "nbformat": 4,
 "nbformat_minor": 5
}
